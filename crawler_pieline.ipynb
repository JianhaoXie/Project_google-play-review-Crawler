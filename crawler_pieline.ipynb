{
 "cells": [
  {
   "cell_type": "code",
   "execution_count": 4,
   "metadata": {},
   "outputs": [],
   "source": [
    "# -*- coding: utf-8 -*-\n",
    "__author__ = \"yen-nan ho\"\n",
    "\n",
    "import re\n",
    "import os\n",
    "import time\n",
    "import json\n",
    "import requests\n",
    "import pandas as pd\n",
    "from bs4 import BeautifulSoup\n",
    "from selenium import webdriver\n",
    "from selenium.webdriver.chrome.options import Options\n",
    "from selenium.webdriver.common.keys import Keys"
   ]
  },
  {
   "cell_type": "code",
   "execution_count": 5,
   "metadata": {},
   "outputs": [],
   "source": [
    "url = 'https://play.google.com/store/apps/collection/cluster?clp=0g4cChoKFHRvcHNlbGxpbmdfZnJlZV9HQU1FEAcYAw%3D%3D:S:ANO1ljJ_Y5U&gsr=Ch_SDhwKGgoUdG9wc2VsbGluZ19mcmVlX0dBTUUQBxgD:S:ANO1ljL4b8c'\n",
    "\n",
    "headers = {'user-agent': 'Mozilla/5.0 (Windows NT 10.0; Win64; x64) AppleWebKit/537.36 (KHTML, like Gecko) Chrome/80.0.3987.122 Safari/537.36'}"
   ]
  },
  {
   "cell_type": "code",
   "execution_count": 4,
   "metadata": {},
   "outputs": [
    {
     "output_type": "stream",
     "name": "stdout",
     "text": "success!\n"
    }
   ],
   "source": [
    "html = requests.get(url, headers = headers)\n",
    "if html.status_code == 200:\n",
    "        print('success!') \n",
    "soup = BeautifulSoup(html.text, 'lxml')"
   ]
  },
  {
   "cell_type": "code",
   "execution_count": 5,
   "metadata": {},
   "outputs": [],
   "source": [
    "url_ls = soup.find_all(\"div\", class_=\"wXUyZd\") \n",
    "url_ls = [i.a['href'] for i in url_ls] # https://play.google.com"
   ]
  },
  {
   "cell_type": "code",
   "execution_count": 6,
   "metadata": {},
   "outputs": [
    {
     "output_type": "execute_result",
     "data": {
      "text/plain": "['/store/apps/details?id=com.denachina.g23002013.android',\n '/store/apps/details?id=com.nexon.kart',\n '/store/apps/details?id=com.linegames.exos',\n '/store/apps/details?id=com.gamebosshk.google2.coh',\n '/store/apps/details?id=com.barely.rpg.arkadia.zhtw']"
     },
     "metadata": {},
     "execution_count": 6
    }
   ],
   "source": [
    "url_ls[:5]"
   ]
  },
  {
   "cell_type": "code",
   "execution_count": 7,
   "metadata": {},
   "outputs": [],
   "source": [
    "img_url_ls = soup.find_all(\"img\", class_=\"T75of QNCnCf\")\n",
    "img_url_ls = [img['data-src'] for img in img_url_ls]"
   ]
  },
  {
   "cell_type": "code",
   "execution_count": 8,
   "metadata": {},
   "outputs": [
    {
     "output_type": "execute_result",
     "data": {
      "text/plain": "['https://lh3.googleusercontent.com/UnRa5qLPgkPUkJCl2m1p7V8C0Vv5x4hJlZNb_wUzOZlGRwdozqbAh4h8evnLejw8iSKV=s128-rw',\n 'https://lh3.googleusercontent.com/UnRa5qLPgkPUkJCl2m1p7V8C0Vv5x4hJlZNb_wUzOZlGRwdozqbAh4h8evnLejw8iSKV=s128-rw',\n 'https://lh3.googleusercontent.com/UnRa5qLPgkPUkJCl2m1p7V8C0Vv5x4hJlZNb_wUzOZlGRwdozqbAh4h8evnLejw8iSKV=s128-rw',\n 'https://lh3.googleusercontent.com/efTl-jBXqhgY41rNjF1sp8-Ec9mSOQShB1hwDSSZwnPziWXibQhKt9N12dITdxVfX2Tr=s128-rw',\n 'https://lh3.googleusercontent.com/efTl-jBXqhgY41rNjF1sp8-Ec9mSOQShB1hwDSSZwnPziWXibQhKt9N12dITdxVfX2Tr=s128-rw']"
     },
     "metadata": {},
     "execution_count": 8
    }
   ],
   "source": [
    "img_url_ls[:5]"
   ]
  },
  {
   "cell_type": "code",
   "execution_count": 9,
   "metadata": {},
   "outputs": [],
   "source": [
    "name_ls = soup.find_all(\"div\", class_=\"WsMG1c nnK0zc\")\n",
    "name_ls = [i['title'] for i in name_ls]"
   ]
  },
  {
   "cell_type": "code",
   "execution_count": 10,
   "metadata": {},
   "outputs": [
    {
     "output_type": "execute_result",
     "data": {
      "text/plain": "['灌籃高手 SLAM DUNK', 'KartRider Rush+', 'Exos Heroes', '逆襲吧英雄：我就戰', '阿卡迪亞']"
     },
     "metadata": {},
     "execution_count": 10
    }
   ],
   "source": [
    "name_ls[:5]"
   ]
  },
  {
   "cell_type": "code",
   "execution_count": 11,
   "metadata": {},
   "outputs": [],
   "source": [
    "developer_ls = soup.find_all(\"div\", class_=\"b8cIId ReQCgd KoLSrc\")\n",
    "developer_url_ls = [i.a[\"href\"] for i in developer_ls]\n",
    "developer_name_ls = [i.text for i in developer_ls]"
   ]
  },
  {
   "cell_type": "code",
   "execution_count": 12,
   "metadata": {},
   "outputs": [
    {
     "output_type": "execute_result",
     "data": {
      "text/plain": "['/store/apps/developer?id=DeNA+HONG+KONG+LIMITED',\n '/store/apps/dev?id=7175795338936881781',\n '/store/apps/dev?id=6262318312652386413',\n '/store/apps/developer?id=Gameboss%28HK%29+Digital+Entertainment',\n '/store/apps/developer?id=Barley+Game']"
     },
     "metadata": {},
     "execution_count": 12
    }
   ],
   "source": [
    "developer_url_ls[:5]"
   ]
  },
  {
   "cell_type": "code",
   "execution_count": 13,
   "metadata": {},
   "outputs": [
    {
     "output_type": "execute_result",
     "data": {
      "text/plain": "['DeNA HONG KONG LIMITED',\n 'NEXON Company',\n 'LINE Games',\n 'Gameboss(HK) Digital Entertainment',\n 'Barley Game']"
     },
     "metadata": {},
     "execution_count": 13
    }
   ],
   "source": [
    "developer_name_ls[:5]"
   ]
  },
  {
   "cell_type": "code",
   "execution_count": 14,
   "metadata": {},
   "outputs": [],
   "source": [
    "star_ls = soup.find_all(\"div\", class_=\"pf5lIe\")\n",
    "star_ls = [i.div['aria-label'] for i in star_ls]"
   ]
  },
  {
   "cell_type": "code",
   "execution_count": 15,
   "metadata": {},
   "outputs": [
    {
     "output_type": "execute_result",
     "data": {
      "text/plain": "['Rated 4.3 stars out of five stars',\n 'Rated 3.8 stars out of five stars',\n 'Rated 4.5 stars out of five stars',\n 'Rated 4.0 stars out of five stars',\n 'Rated 4.6 stars out of five stars']"
     },
     "metadata": {},
     "execution_count": 15
    }
   ],
   "source": [
    "star_ls[:5]"
   ]
  },
  {
   "cell_type": "markdown",
   "metadata": {},
   "source": [
    "# 合併資料"
   ]
  },
  {
   "cell_type": "code",
   "execution_count": 16,
   "metadata": {},
   "outputs": [],
   "source": [
    "result_ls = list(zip(name_ls, developer_name_ls, star_ls, url_ls, img_url_ls, developer_url_ls))"
   ]
  },
  {
   "cell_type": "code",
   "execution_count": 17,
   "metadata": {},
   "outputs": [],
   "source": [
    "df = pd.DataFrame(result_ls, columns = ['name', 'developer', 'star', 'url', 'img_url', 'developer_url'])"
   ]
  },
  {
   "cell_type": "code",
   "execution_count": 18,
   "metadata": {},
   "outputs": [
    {
     "output_type": "execute_result",
     "data": {
      "text/plain": "              name                           developer  \\\n0   灌籃高手 SLAM DUNK              DeNA HONG KONG LIMITED   \n1  KartRider Rush+                       NEXON Company   \n2      Exos Heroes                          LINE Games   \n3        逆襲吧英雄：我就戰  Gameboss(HK) Digital Entertainment   \n4             阿卡迪亞                         Barley Game   \n\n                                star  \\\n0  Rated 4.3 stars out of five stars   \n1  Rated 3.8 stars out of five stars   \n2  Rated 4.5 stars out of five stars   \n3  Rated 4.0 stars out of five stars   \n4  Rated 4.6 stars out of five stars   \n\n                                                 url  \\\n0  /store/apps/details?id=com.denachina.g23002013...   \n1              /store/apps/details?id=com.nexon.kart   \n2          /store/apps/details?id=com.linegames.exos   \n3  /store/apps/details?id=com.gamebosshk.google2.coh   \n4  /store/apps/details?id=com.barely.rpg.arkadia....   \n\n                                             img_url  \\\n0  https://lh3.googleusercontent.com/UnRa5qLPgkPU...   \n1  https://lh3.googleusercontent.com/UnRa5qLPgkPU...   \n2  https://lh3.googleusercontent.com/UnRa5qLPgkPU...   \n3  https://lh3.googleusercontent.com/efTl-jBXqhgY...   \n4  https://lh3.googleusercontent.com/efTl-jBXqhgY...   \n\n                                       developer_url  \n0    /store/apps/developer?id=DeNA+HONG+KONG+LIMITED  \n1             /store/apps/dev?id=7175795338936881781  \n2             /store/apps/dev?id=6262318312652386413  \n3  /store/apps/developer?id=Gameboss%28HK%29+Digi...  \n4               /store/apps/developer?id=Barley+Game  ",
      "text/html": "<div>\n<style scoped>\n    .dataframe tbody tr th:only-of-type {\n        vertical-align: middle;\n    }\n\n    .dataframe tbody tr th {\n        vertical-align: top;\n    }\n\n    .dataframe thead th {\n        text-align: right;\n    }\n</style>\n<table border=\"1\" class=\"dataframe\">\n  <thead>\n    <tr style=\"text-align: right;\">\n      <th></th>\n      <th>name</th>\n      <th>developer</th>\n      <th>star</th>\n      <th>url</th>\n      <th>img_url</th>\n      <th>developer_url</th>\n    </tr>\n  </thead>\n  <tbody>\n    <tr>\n      <th>0</th>\n      <td>灌籃高手 SLAM DUNK</td>\n      <td>DeNA HONG KONG LIMITED</td>\n      <td>Rated 4.3 stars out of five stars</td>\n      <td>/store/apps/details?id=com.denachina.g23002013...</td>\n      <td>https://lh3.googleusercontent.com/UnRa5qLPgkPU...</td>\n      <td>/store/apps/developer?id=DeNA+HONG+KONG+LIMITED</td>\n    </tr>\n    <tr>\n      <th>1</th>\n      <td>KartRider Rush+</td>\n      <td>NEXON Company</td>\n      <td>Rated 3.8 stars out of five stars</td>\n      <td>/store/apps/details?id=com.nexon.kart</td>\n      <td>https://lh3.googleusercontent.com/UnRa5qLPgkPU...</td>\n      <td>/store/apps/dev?id=7175795338936881781</td>\n    </tr>\n    <tr>\n      <th>2</th>\n      <td>Exos Heroes</td>\n      <td>LINE Games</td>\n      <td>Rated 4.5 stars out of five stars</td>\n      <td>/store/apps/details?id=com.linegames.exos</td>\n      <td>https://lh3.googleusercontent.com/UnRa5qLPgkPU...</td>\n      <td>/store/apps/dev?id=6262318312652386413</td>\n    </tr>\n    <tr>\n      <th>3</th>\n      <td>逆襲吧英雄：我就戰</td>\n      <td>Gameboss(HK) Digital Entertainment</td>\n      <td>Rated 4.0 stars out of five stars</td>\n      <td>/store/apps/details?id=com.gamebosshk.google2.coh</td>\n      <td>https://lh3.googleusercontent.com/efTl-jBXqhgY...</td>\n      <td>/store/apps/developer?id=Gameboss%28HK%29+Digi...</td>\n    </tr>\n    <tr>\n      <th>4</th>\n      <td>阿卡迪亞</td>\n      <td>Barley Game</td>\n      <td>Rated 4.6 stars out of five stars</td>\n      <td>/store/apps/details?id=com.barely.rpg.arkadia....</td>\n      <td>https://lh3.googleusercontent.com/efTl-jBXqhgY...</td>\n      <td>/store/apps/developer?id=Barley+Game</td>\n    </tr>\n  </tbody>\n</table>\n</div>"
     },
     "metadata": {},
     "execution_count": 18
    }
   ],
   "source": [
    "df.head()"
   ]
  },
  {
   "cell_type": "markdown",
   "metadata": {},
   "source": [
    "# 資料整理"
   ]
  },
  {
   "cell_type": "code",
   "execution_count": 20,
   "metadata": {},
   "outputs": [],
   "source": [
    "df['star'] = df.star.str.extract('(\\d.\\d)')"
   ]
  },
  {
   "cell_type": "code",
   "execution_count": 21,
   "metadata": {},
   "outputs": [],
   "source": [
    "df['url'] = \"https://play.google.com\" + df['url']"
   ]
  },
  {
   "cell_type": "code",
   "execution_count": 22,
   "metadata": {},
   "outputs": [],
   "source": [
    "df['developer_url'] = \"https://play.google.com\" + df['developer_url']"
   ]
  },
  {
   "cell_type": "code",
   "execution_count": 23,
   "metadata": {},
   "outputs": [],
   "source": [
    "df.to_csv('game_basic_list.csv', index=False)"
   ]
  },
  {
   "cell_type": "code",
   "execution_count": 24,
   "metadata": {},
   "outputs": [
    {
     "output_type": "execute_result",
     "data": {
      "text/plain": "              name                           developer star  \\\n0   灌籃高手 SLAM DUNK              DeNA HONG KONG LIMITED  4.3   \n1  KartRider Rush+                       NEXON Company  3.8   \n2      Exos Heroes                          LINE Games  4.5   \n3        逆襲吧英雄：我就戰  Gameboss(HK) Digital Entertainment  4.0   \n4             阿卡迪亞                         Barley Game  4.6   \n\n                                                 url  \\\n0  https://play.google.com/store/apps/details?id=...   \n1  https://play.google.com/store/apps/details?id=...   \n2  https://play.google.com/store/apps/details?id=...   \n3  https://play.google.com/store/apps/details?id=...   \n4  https://play.google.com/store/apps/details?id=...   \n\n                                             img_url  \\\n0  https://lh3.googleusercontent.com/UnRa5qLPgkPU...   \n1  https://lh3.googleusercontent.com/UnRa5qLPgkPU...   \n2  https://lh3.googleusercontent.com/UnRa5qLPgkPU...   \n3  https://lh3.googleusercontent.com/efTl-jBXqhgY...   \n4  https://lh3.googleusercontent.com/efTl-jBXqhgY...   \n\n                                       developer_url  \n0  https://play.google.com/store/apps/developer?i...  \n1  https://play.google.com/store/apps/dev?id=7175...  \n2  https://play.google.com/store/apps/dev?id=6262...  \n3  https://play.google.com/store/apps/developer?i...  \n4  https://play.google.com/store/apps/developer?i...  ",
      "text/html": "<div>\n<style scoped>\n    .dataframe tbody tr th:only-of-type {\n        vertical-align: middle;\n    }\n\n    .dataframe tbody tr th {\n        vertical-align: top;\n    }\n\n    .dataframe thead th {\n        text-align: right;\n    }\n</style>\n<table border=\"1\" class=\"dataframe\">\n  <thead>\n    <tr style=\"text-align: right;\">\n      <th></th>\n      <th>name</th>\n      <th>developer</th>\n      <th>star</th>\n      <th>url</th>\n      <th>img_url</th>\n      <th>developer_url</th>\n    </tr>\n  </thead>\n  <tbody>\n    <tr>\n      <th>0</th>\n      <td>灌籃高手 SLAM DUNK</td>\n      <td>DeNA HONG KONG LIMITED</td>\n      <td>4.3</td>\n      <td>https://play.google.com/store/apps/details?id=...</td>\n      <td>https://lh3.googleusercontent.com/UnRa5qLPgkPU...</td>\n      <td>https://play.google.com/store/apps/developer?i...</td>\n    </tr>\n    <tr>\n      <th>1</th>\n      <td>KartRider Rush+</td>\n      <td>NEXON Company</td>\n      <td>3.8</td>\n      <td>https://play.google.com/store/apps/details?id=...</td>\n      <td>https://lh3.googleusercontent.com/UnRa5qLPgkPU...</td>\n      <td>https://play.google.com/store/apps/dev?id=7175...</td>\n    </tr>\n    <tr>\n      <th>2</th>\n      <td>Exos Heroes</td>\n      <td>LINE Games</td>\n      <td>4.5</td>\n      <td>https://play.google.com/store/apps/details?id=...</td>\n      <td>https://lh3.googleusercontent.com/UnRa5qLPgkPU...</td>\n      <td>https://play.google.com/store/apps/dev?id=6262...</td>\n    </tr>\n    <tr>\n      <th>3</th>\n      <td>逆襲吧英雄：我就戰</td>\n      <td>Gameboss(HK) Digital Entertainment</td>\n      <td>4.0</td>\n      <td>https://play.google.com/store/apps/details?id=...</td>\n      <td>https://lh3.googleusercontent.com/efTl-jBXqhgY...</td>\n      <td>https://play.google.com/store/apps/developer?i...</td>\n    </tr>\n    <tr>\n      <th>4</th>\n      <td>阿卡迪亞</td>\n      <td>Barley Game</td>\n      <td>4.6</td>\n      <td>https://play.google.com/store/apps/details?id=...</td>\n      <td>https://lh3.googleusercontent.com/efTl-jBXqhgY...</td>\n      <td>https://play.google.com/store/apps/developer?i...</td>\n    </tr>\n  </tbody>\n</table>\n</div>"
     },
     "metadata": {},
     "execution_count": 24
    }
   ],
   "source": [
    "df.head()"
   ]
  },
  {
   "cell_type": "markdown",
   "metadata": {},
   "source": [
    "# 整個流程"
   ]
  },
  {
   "cell_type": "code",
   "execution_count": 2,
   "metadata": {},
   "outputs": [],
   "source": [
    "def get_rank_ls(url, headers, output_path):\n",
    "    html = requests.get(url, headers = headers)\n",
    "    if html.status_code == 200:\n",
    "            print('success!') \n",
    "    soup = BeautifulSoup(html.text, 'lxml')\n",
    "\n",
    "    url_ls = soup.find_all(\"div\", class_=\"wXUyZd\") \n",
    "    url_ls = [i.a['href'] for i in url_ls] # https://play.google.com\n",
    "\n",
    "    img_url_ls = soup.find_all(\"img\", class_=\"T75of QNCnCf\")\n",
    "    img_url_ls = [img['data-src'] for img in img_url_ls]\n",
    "\n",
    "    name_ls = soup.find_all(\"div\", class_=\"WsMG1c nnK0zc\")\n",
    "    name_ls = [i['title'] for i in name_ls]\n",
    "\n",
    "    developer_ls = soup.find_all(\"div\", class_=\"b8cIId ReQCgd KoLSrc\")\n",
    "    developer_url_ls = [i.a[\"href\"] for i in developer_ls]\n",
    "    developer_name_ls = [i.text for i in developer_ls]\n",
    "\n",
    "    star_ls = soup.find_all(\"div\", class_=\"pf5lIe\")\n",
    "    star_ls = [i.div['aria-label'] for i in star_ls]\n",
    "\n",
    "    result_ls = list(zip(name_ls, developer_name_ls, star_ls, url_ls, img_url_ls, developer_url_ls))\n",
    "    df = pd.DataFrame(result_ls, columns = ['name', 'developer', 'star', 'url', 'img_url', 'developer_url'])\n",
    "\n",
    "    df['star'] = df.star.str.extract('(\\d.\\d)')\n",
    "    df['url'] = \"https://play.google.com\" + df['url']\n",
    "    df['developer_url'] = \"https://play.google.com\" + df['developer_url']\n",
    "\n",
    "    df.to_csv(output_path, index=False)"
   ]
  },
  {
   "cell_type": "code",
   "execution_count": 12,
   "metadata": {},
   "outputs": [
    {
     "output_type": "stream",
     "name": "stdout",
     "text": "success!\n"
    }
   ],
   "source": [
    "url = \"https://play.google.com/store/apps/collection/cluster?clp=0g4cChoKFHRvcHNlbGxpbmdfcGFpZF9HQU1FEAcYAw%3D%3D:S:ANO1ljLtt38&gsr=Ch_SDhwKGgoUdG9wc2VsbGluZ19wYWlkX0dBTUUQBxgD:S:ANO1ljJCqyI\"\n",
    "\n",
    "get_rank_ls(url, headers, \"data/Top50_paid_games_rankings.csv\")"
   ]
  },
  {
   "cell_type": "code",
   "execution_count": 13,
   "metadata": {},
   "outputs": [
    {
     "output_type": "stream",
     "name": "stdout",
     "text": "success!\n"
    }
   ],
   "source": [
    "url = \"https://play.google.com/store/apps/collection/cluster?clp=0g4cChoKFHRvcHNlbGxpbmdfZnJlZV9HQU1FEAcYAw%3D%3D:S:ANO1ljJ_Y5U&gsr=Ch_SDhwKGgoUdG9wc2VsbGluZ19mcmVlX0dBTUUQBxgD:S:ANO1ljL4b8c\"\n",
    "\n",
    "get_rank_ls(url, headers, \"data/Top50_free_game_rankings.csv\")"
   ]
  },
  {
   "cell_type": "code",
   "execution_count": null,
   "metadata": {},
   "outputs": [],
   "source": [
    "url = \"https://play.google.com/store/apps/collection/cluster?clp=0g4YChYKEHRvcGdyb3NzaW5nX0dBTUUQBxgD:S:ANO1ljLhYwQ&gsr=ChvSDhgKFgoQdG9wZ3Jvc3NpbmdfR0FNRRAHGAM%3D:S:ANO1ljIKta8\"\n",
    "\n",
    "get_rank_ls(url, headers, \"data/Top50_revenue_games_rankings.csv\")"
   ]
  },
  {
   "cell_type": "markdown",
   "metadata": {},
   "source": [
    "---\n",
    "# 爬取詳細資料"
   ]
  },
  {
   "cell_type": "code",
   "execution_count": 25,
   "metadata": {},
   "outputs": [
    {
     "output_type": "stream",
     "name": "stdout",
     "text": "success!\n"
    }
   ],
   "source": [
    "html_game = requests.get(df.loc[0,'url'], headers = headers)\n",
    "if html.status_code == 200:\n",
    "        print('success!') \n",
    "soup_game = BeautifulSoup(html_game.text, 'lxml')"
   ]
  },
  {
   "cell_type": "code",
   "execution_count": 26,
   "metadata": {},
   "outputs": [],
   "source": [
    "game_type = soup_game.find(\"a\", itemprop=\"genre\").text"
   ]
  },
  {
   "cell_type": "code",
   "execution_count": 27,
   "metadata": {},
   "outputs": [
    {
     "output_type": "execute_result",
     "data": {
      "text/plain": "'Sports'"
     },
     "metadata": {},
     "execution_count": 27
    }
   ],
   "source": [
    "game_type"
   ]
  },
  {
   "cell_type": "code",
   "execution_count": 28,
   "metadata": {},
   "outputs": [],
   "source": [
    "recommend_ls = soup_game.find_all(\"div\", class_=\"WsMG1c nnK0zc\")\n",
    "recommend_ls = [i.text for i in recommend_ls[:5]]"
   ]
  },
  {
   "cell_type": "code",
   "execution_count": 29,
   "metadata": {},
   "outputs": [
    {
     "output_type": "execute_result",
     "data": {
      "text/plain": "['NBA大師 Mobile - 巨星王朝',\n '鬥牛高手—3V3街籃玩法手游',\n '街球對決',\n '少年猛將傳',\n '3on3自由街球-热血街头，竞技籃球']"
     },
     "metadata": {},
     "execution_count": 29
    }
   ],
   "source": [
    "recommend_ls"
   ]
  },
  {
   "cell_type": "code",
   "execution_count": 30,
   "metadata": {},
   "outputs": [],
   "source": [
    "describe = soup_game.find(\"div\", jsname=\"sngebd\")"
   ]
  },
  {
   "cell_type": "code",
   "execution_count": 31,
   "metadata": {},
   "outputs": [
    {
     "output_type": "execute_result",
     "data": {
      "text/plain": "<div jsname=\"sngebd\">灌籃高手！熱血不滅！稱霸全國！<br/><br/>《灌籃高手SLAMDUNK》是一款真人實時籃球競技手遊，由DeNA發行，東映動畫授權並全程監制。遊戲以井上雄彥原作漫畫、東映動畫製作的同名動畫片《灌籃高手》改編而成，玩家可操控原作出場角色，習得技能，體驗原作動畫的經典劇情和各個高校球隊的強大實力，感受競技賽事帶來的熱血與感動。<br/><br/>學生時代耳熟能詳的「哼哼防守」、「大猩猩灌籃」、「電光火石」每位球員的絕招將被一一還原，為每位球員打造一份專屬的技能清單。<br/><br/>．東映正版授權！經典劇情完整還原！<br/>PVE玩法將為大家呈現出十多個經典的動畫劇情章節。親身體驗一回湘北籃球新人櫻木花道的成長史，重溫那個青春洋溢的夏天。<br/><br/>．實時多人競技！多種玩法展現你的球技！<br/>除核心的3V3半場模式外，更有1V1鬥牛、2V2組隊、3V3全場、單人5V5全場等多種比賽模式。與落單的隊友一起匹配組隊，體驗團體競技的魅力。<br/><br/>．全國排位賽開打！與好友稱霸全國！<br/>排位賽以3V3半場作為比賽模式，3分鐘一場，與好友團隊合作，展現自我技巧，與好友共同贏得勝利，挑戰全國好手，爭奪「全服第一」稱霸全國。<br/><br/>．角色全收錄！台日原班聲優獻聲！<br/>東映動畫正版授權，灌籃高手動畫中角色全收錄。<br/><br/>．天才籃球高手誕生！挑戰全國贏得冠軍！<br/>遊戲中還原櫻木花道、流川楓、仙道彰、牧紳一等經典角色的經典技能，運用你的籃球智慧，擊敗來自全國的挑戰者，贏得勝利，稱霸全國。<br/><br/>．跨服競技榮耀戰區開打！3分鐘公平競賽！<br/>跨服匹配隨時開打，一鍵加好友功能，隨時隨地與好友開賽，挑戰榮耀戰區代表你的城市出戰，爭奪成為全國最強籃球員。</div>"
     },
     "metadata": {},
     "execution_count": 31
    }
   ],
   "source": [
    "describe"
   ]
  },
  {
   "cell_type": "code",
   "execution_count": 67,
   "metadata": {},
   "outputs": [],
   "source": [
    "chrome_options = Options() \n",
    "chrome_options.add_argument(\"--headless\") \n",
    "chrome_options.add_argument(\"--incognito\")\n",
    "# proxy = \"socks5://localhost:9050\"\n",
    "# chrome_options.add_argument('--proxy-server={}'.format(proxy))\n",
    "chrome_options.add_argument(\"user-agent={}\".format(self.headers))\n",
    "browser = webdriver.Chrome('chromedriver.exe',\n",
    "                            chrome_options=chrome_options\n",
    "                            )\n",
    "\n",
    "browser.implicitly_wait(5) # 隱式等待 5 秒, https://selenium-python-zh.readthedocs.io/en/latest/waits.html#id3\n",
    "browser.get(df.loc[0,'url']+\"&showAllReviews=true\")"
   ]
  },
  {
   "cell_type": "code",
   "execution_count": 68,
   "metadata": {},
   "outputs": [],
   "source": [
    "def set_viewport_size(driver, width, height):\n",
    "    window_size = driver.execute_script(\"\"\"\n",
    "        return [window.outerWidth - window.innerWidth + arguments[0],\n",
    "          window.outerHeight - window.innerHeight + arguments[1]];\n",
    "        \"\"\", width, height)\n",
    "    driver.set_window_size(*window_size)"
   ]
  },
  {
   "cell_type": "code",
   "execution_count": 69,
   "metadata": {},
   "outputs": [],
   "source": [
    "set_viewport_size(browser,2000, 2000)"
   ]
  },
  {
   "cell_type": "code",
   "execution_count": 77,
   "metadata": {},
   "outputs": [],
   "source": [
    "last_height = browser.execute_script(\"return document.body.scrollHeight\")\n",
    "while True: \n",
    "    htmlstring = browser.page_source\n",
    "    if htmlstring.find('顯示更多內容') == -1:\n",
    "        browser.execute_script(\"window.scrollTo(0, document.body.scrollHeight);\")\n",
    "        time.sleep(1)\n",
    "        new_height = browser.execute_script(\"return document.body.scrollHeight\")\n",
    "        if new_height == last_height:\n",
    "            break\n",
    "        else:\n",
    "            last_height = new_height\n",
    "    else:\n",
    "        element = browser.find_element_by_xpath(\"/html/body/div[1]/div[4]/c-wiz/div/div[2]/div/div[1]/div/div/div[1]/div[2]/div[2]/div/span/span\")\n",
    "        browser.execute_script(\"arguments[0].click();\", element)\n",
    "        time.sleep(1)"
   ]
  },
  {
   "cell_type": "code",
   "execution_count": 79,
   "metadata": {},
   "outputs": [],
   "source": [
    "comment_soup = BeautifulSoup(htmlstring, 'lxml')\n",
    "browser.close()"
   ]
  },
  {
   "cell_type": "code",
   "execution_count": 144,
   "metadata": {},
   "outputs": [],
   "source": [
    "comment_name_ls = comment_soup.find_all(\"span\", class_=\"X43Kjb\")\n",
    "comment_name_ls = [i.text for i in comment_name_ls if i.text!=\"DeNA HONG KONG LIMITED\"]\n",
    "comment_ls = comment_soup.find_all(\"span\", jsname=\"fbQN7e\")\n",
    "comment_ls = [i.text for i in comment_ls]"
   ]
  },
  {
   "cell_type": "code",
   "execution_count": 145,
   "metadata": {},
   "outputs": [],
   "source": [
    "star_time_ls = comment_soup.find_all(\"span\", class_=\"nt2C1d\")\n",
    "star_ls = [i.div.div['aria-label'][4] for i in star_time_ls]\n",
    "time_ls = [i.next_sibling.text for i in star_time_ls]"
   ]
  },
  {
   "cell_type": "code",
   "execution_count": 146,
   "metadata": {},
   "outputs": [],
   "source": [
    "support_ls = comment_soup.find_all(\"div\", class_=\"jUL89d y92BAb\")\n",
    "support_ls = [i.text for i in support_ls]"
   ]
  },
  {
   "cell_type": "code",
   "execution_count": 147,
   "metadata": {},
   "outputs": [],
   "source": [
    "result =list(zip(comment_name_ls, star_ls, time_ls, support_ls, comment_ls))"
   ]
  },
  {
   "cell_type": "code",
   "execution_count": 148,
   "metadata": {},
   "outputs": [],
   "source": [
    "df = pd.DataFrame(result)"
   ]
  },
  {
   "cell_type": "code",
   "execution_count": 149,
   "metadata": {},
   "outputs": [
    {
     "output_type": "execute_result",
     "data": {
      "text/plain": "                    0  1           2   3  \\\n0                 虞如劉  5  2020年5月29日  25   \n1                 林建良  4  2020年5月28日  23   \n2     granges impregn  5  2020年5月30日   1   \n3                 五雄庭  5  2020年5月29日   1   \n4                农黝奇昌  5  2020年5月30日   0   \n...               ... ..         ...  ..   \n1799              李佩禎  5  2020年5月31日   0   \n1800              許志芷  5  2020年5月31日   0   \n1801              鈄淑惠  5  2020年5月31日   0   \n1802              林慧君  1  2020年5月30日   0   \n1803              陳添玲  5  2020年5月31日   0   \n\n                                                      4  \n0     大家都在玩，如果簡單一點，這個遊戲會很火。美中不足就是不能像【ukbbe.C0 M】的遊戲一...  \n1                                                        \n2                                                        \n3                                                        \n4     所以扶老太太過馬路我每個星期都做一次，遊戲整體非常好之前我在PP1943,c0 m可以玩無數...  \n...                                                 ...  \n1799  雖簡單卻有深度的操作，可是呢我平常最喜歡到EDM12.Co?上找滿V無限元寶版，登入就無限資...  \n1800  很少這樣單純又好玩的遊戲了，大家可以打開網址在【knn83.c om】頁面上玩BT版能玩到這...  \n1801  很少這樣單純又好玩的遊戲了，大家可以打開網址在【knn83.c om】頁面上玩BT版能玩到這...  \n1802                                                     \n1803  一個打一個准，上次我在網址EDM12.CoⱮ有玩到滿V級鑽石無限版，頗爽得很省錢很佛心，還有...  \n\n[1804 rows x 5 columns]",
      "text/html": "<div>\n<style scoped>\n    .dataframe tbody tr th:only-of-type {\n        vertical-align: middle;\n    }\n\n    .dataframe tbody tr th {\n        vertical-align: top;\n    }\n\n    .dataframe thead th {\n        text-align: right;\n    }\n</style>\n<table border=\"1\" class=\"dataframe\">\n  <thead>\n    <tr style=\"text-align: right;\">\n      <th></th>\n      <th>0</th>\n      <th>1</th>\n      <th>2</th>\n      <th>3</th>\n      <th>4</th>\n    </tr>\n  </thead>\n  <tbody>\n    <tr>\n      <th>0</th>\n      <td>虞如劉</td>\n      <td>5</td>\n      <td>2020年5月29日</td>\n      <td>25</td>\n      <td>大家都在玩，如果簡單一點，這個遊戲會很火。美中不足就是不能像【ukbbe.C0 M】的遊戲一...</td>\n    </tr>\n    <tr>\n      <th>1</th>\n      <td>林建良</td>\n      <td>4</td>\n      <td>2020年5月28日</td>\n      <td>23</td>\n      <td></td>\n    </tr>\n    <tr>\n      <th>2</th>\n      <td>granges impregn</td>\n      <td>5</td>\n      <td>2020年5月30日</td>\n      <td>1</td>\n      <td></td>\n    </tr>\n    <tr>\n      <th>3</th>\n      <td>五雄庭</td>\n      <td>5</td>\n      <td>2020年5月29日</td>\n      <td>1</td>\n      <td></td>\n    </tr>\n    <tr>\n      <th>4</th>\n      <td>农黝奇昌</td>\n      <td>5</td>\n      <td>2020年5月30日</td>\n      <td>0</td>\n      <td>所以扶老太太過馬路我每個星期都做一次，遊戲整體非常好之前我在PP1943,c0 m可以玩無數...</td>\n    </tr>\n    <tr>\n      <th>...</th>\n      <td>...</td>\n      <td>...</td>\n      <td>...</td>\n      <td>...</td>\n      <td>...</td>\n    </tr>\n    <tr>\n      <th>1799</th>\n      <td>李佩禎</td>\n      <td>5</td>\n      <td>2020年5月31日</td>\n      <td>0</td>\n      <td>雖簡單卻有深度的操作，可是呢我平常最喜歡到EDM12.Co?上找滿V無限元寶版，登入就無限資...</td>\n    </tr>\n    <tr>\n      <th>1800</th>\n      <td>許志芷</td>\n      <td>5</td>\n      <td>2020年5月31日</td>\n      <td>0</td>\n      <td>很少這樣單純又好玩的遊戲了，大家可以打開網址在【knn83.c om】頁面上玩BT版能玩到這...</td>\n    </tr>\n    <tr>\n      <th>1801</th>\n      <td>鈄淑惠</td>\n      <td>5</td>\n      <td>2020年5月31日</td>\n      <td>0</td>\n      <td>很少這樣單純又好玩的遊戲了，大家可以打開網址在【knn83.c om】頁面上玩BT版能玩到這...</td>\n    </tr>\n    <tr>\n      <th>1802</th>\n      <td>林慧君</td>\n      <td>1</td>\n      <td>2020年5月30日</td>\n      <td>0</td>\n      <td></td>\n    </tr>\n    <tr>\n      <th>1803</th>\n      <td>陳添玲</td>\n      <td>5</td>\n      <td>2020年5月31日</td>\n      <td>0</td>\n      <td>一個打一個准，上次我在網址EDM12.CoⱮ有玩到滿V級鑽石無限版，頗爽得很省錢很佛心，還有...</td>\n    </tr>\n  </tbody>\n</table>\n<p>1804 rows × 5 columns</p>\n</div>"
     },
     "metadata": {},
     "execution_count": 149
    }
   ],
   "source": [
    "df"
   ]
  },
  {
   "cell_type": "code",
   "execution_count": null,
   "metadata": {},
   "outputs": [],
   "source": []
  }
 ],
 "metadata": {
  "language_info": {
   "codemirror_mode": {
    "name": "ipython",
    "version": 3
   },
   "file_extension": ".py",
   "mimetype": "text/x-python",
   "name": "python",
   "nbconvert_exporter": "python",
   "pygments_lexer": "ipython3",
   "version": "3.7.6-final"
  },
  "orig_nbformat": 2,
  "kernelspec": {
   "name": "python3",
   "display_name": "Python 3"
  }
 },
 "nbformat": 4,
 "nbformat_minor": 2
}